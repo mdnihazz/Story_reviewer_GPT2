{
 "cells": [
  {
   "cell_type": "markdown",
   "id": "83d4e833",
   "metadata": {},
   "source": [
    "## The Model"
   ]
  },
  {
   "cell_type": "code",
   "execution_count": 1,
   "id": "f3908500",
   "metadata": {},
   "outputs": [],
   "source": [
    "import torch\n",
    "import warnings\n",
    "warnings.filterwarnings(\"ignore\")\n",
    "from transformers import GPT2LMHeadModel, GPT2Tokenizer\n",
    "\n",
    "#Initializing the language model\n",
    "model_name = \"gpt2-large\" \n",
    "tokenizer = GPT2Tokenizer.from_pretrained(model_name)\n",
    "model = GPT2LMHeadModel.from_pretrained(model_name)"
   ]
  },
  {
   "cell_type": "markdown",
   "id": "8c144175",
   "metadata": {},
   "source": [
    "- I used gpt2-large model from huggingface transformers library for this asssignment\n",
    "- I used the tokenizer and the model of the gpt2-large using .from_pretrained() method"
   ]
  },
  {
   "cell_type": "code",
   "execution_count": 2,
   "id": "c825caef",
   "metadata": {},
   "outputs": [],
   "source": [
    "#Generating the initial story\n",
    "story_prompt = \"Once upon a time, there lived a ghost..\"\n",
    "\n",
    "generated_story = model.generate(tokenizer.encode(story_prompt, return_tensors=\"pt\"),\n",
    "                                 max_length=250,\n",
    "                                 num_return_sequences=1,\n",
    "                                 no_repeat_ngram_size=2,\n",
    "                                 top_k=50,\n",
    "                                 pad_token_id=tokenizer.eos_token_id)\n",
    "\n",
    "generated_story_text = tokenizer.decode(generated_story[0], skip_special_tokens=True)\n"
   ]
  },
  {
   "cell_type": "markdown",
   "id": "d7c69153",
   "metadata": {},
   "source": [
    "- The gpt2 model generates the text based on the previous tokens. \n",
    "- So I have given a starting sentance of the story as the prompt to the model for the generation of the story.\n",
    "- And I set the maximum length of the story to 250 tokens.\n",
    "- And the generated story is decoded and stored in a variable called 'generated_story_text'"
   ]
  },
  {
   "cell_type": "code",
   "execution_count": 3,
   "id": "6d0e1bba",
   "metadata": {},
   "outputs": [],
   "source": [
    "#Generating a review of the story\n",
    "review_prompt =  \"'''\" + generated_story_text + \"'''\" + \"\\n\\nThe detailed review of the above story is\\n\\n\" \n",
    "\n",
    "generated_review = model.generate(\n",
    "    tokenizer.encode(review_prompt, return_tensors=\"pt\"),\n",
    "    max_length=400,  # Adjust to control the review length\n",
    "    num_return_sequences=1,\n",
    "    no_repeat_ngram_size=2,\n",
    "    top_k=50,\n",
    "    pad_token_id=tokenizer.eos_token_id  # Set pad_token_id to EOS token ID\n",
    ")\n",
    "generated_review_text = tokenizer.decode(generated_review[0], skip_special_tokens=True)\n"
   ]
  },
  {
   "cell_type": "markdown",
   "id": "7f5fba43",
   "metadata": {},
   "source": [
    "- Since we know that the gpt2 model generates the text based on the previous tokens, first we wrote the generated story in triple quotes for better prompting and then wrote a sentence asking about the detailed review as the input prompt \n",
    "- And I set the maximum length for the review as 400 tokens.\n",
    "- And the generated review is decoded and stored in a variable called 'generated_review_text'"
   ]
  },
  {
   "cell_type": "markdown",
   "id": "1e68041c",
   "metadata": {},
   "source": [
    "### The Story"
   ]
  },
  {
   "cell_type": "code",
   "execution_count": 4,
   "id": "463d4aef",
   "metadata": {},
   "outputs": [
    {
     "name": "stdout",
     "output_type": "stream",
     "text": [
      "Generated Story: Once upon a time, there lived a ghost..\n",
      "\n",
      "A ghost who lived in a house in the middle of nowhere.\n",
      ",\n",
      "The ghost of a man who was a farmer. He was always hungry. One day, he was hungry and he went to the market. There, a woman was selling vegetables. She was very beautiful. The man was so hungry that he wanted to buy her vegetables, but she refused. So, the man went back to his house and ate his vegetables and then went home. When he got home, his wife was waiting for him. But, she was not there. Her husband was gone. And, when the ghost saw the woman, it was afraid. It went into the house. Then, its wife came out and said, \"My husband is not here. I am hungry.\" The ghost said to her, 'Go and get some food for me.' So she went and got some vegetables for the husband. After that, her husband came back. His wife said that her father was in prison. They went there and found him in his cell. \"What is the matter with you?\" the wife asked. 'I am not hungry,' he said. \"'Go to your house,' she said\n"
     ]
    }
   ],
   "source": [
    "print(\"Generated Story:\", generated_story_text)"
   ]
  },
  {
   "cell_type": "markdown",
   "id": "ffd9696d",
   "metadata": {},
   "source": [
    "### The Review"
   ]
  },
  {
   "cell_type": "code",
   "execution_count": 5,
   "id": "7d1c02b6",
   "metadata": {
    "scrolled": false
   },
   "outputs": [
    {
     "name": "stdout",
     "output_type": "stream",
     "text": [
      "\n",
      "\n",
      "Generated Review: '''Once upon a time, there lived a ghost..\n",
      "\n",
      "A ghost who lived in a house in the middle of nowhere.\n",
      ",\n",
      "The ghost of a man who was a farmer. He was always hungry. One day, he was hungry and he went to the market. There, a woman was selling vegetables. She was very beautiful. The man was so hungry that he wanted to buy her vegetables, but she refused. So, the man went back to his house and ate his vegetables and then went home. When he got home, his wife was waiting for him. But, she was not there. Her husband was gone. And, when the ghost saw the woman, it was afraid. It went into the house. Then, its wife came out and said, \"My husband is not here. I am hungry.\" The ghost said to her, 'Go and get some food for me.' So she went and got some vegetables for the husband. After that, her husband came back. His wife said that her father was in prison. They went there and found him in his cell. \"What is the matter with you?\" the wife asked. 'I am not hungry,' he said. \"'Go to your house,' she said'''\n",
      "\n",
      "The detailed review of the above story is\n",
      "\n",
      "\n",
      "\"The story of 'The Ghost of Farmer' is a classic example of how the supernatural can be used to create a story that is both frightening and entertaining. In this story, we see the ghosts of two men who were farmers. Both of them were very hungry, and they went out to a market to get food. However, one of these men was too hungry to eat anything, so he decided to go back home and eat his food, while the other man stayed behind to look for food in order to make sure that his hunger was satisfied. As the story goes, both men were hungry when they got back, however, they were not satisfied with the food\n"
     ]
    }
   ],
   "source": [
    "print(\"\\n\\nGenerated Review:\", generated_review_text)"
   ]
  }
 ],
 "metadata": {
  "kernelspec": {
   "display_name": "Python 3 (ipykernel)",
   "language": "python",
   "name": "python3"
  },
  "language_info": {
   "codemirror_mode": {
    "name": "ipython",
    "version": 3
   },
   "file_extension": ".py",
   "mimetype": "text/x-python",
   "name": "python",
   "nbconvert_exporter": "python",
   "pygments_lexer": "ipython3",
   "version": "3.10.9"
  }
 },
 "nbformat": 4,
 "nbformat_minor": 5
}
